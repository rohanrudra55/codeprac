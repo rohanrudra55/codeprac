{
 "cells": [
  {
   "cell_type": "code",
   "execution_count": 2,
   "metadata": {},
   "outputs": [
    {
     "name": "stdin",
     "output_type": "stream",
     "text": [
      " 1 3 4 1 2 5 7 3 6 8 9 3\n",
      " 6\n"
     ]
    },
    {
     "name": "stdout",
     "output_type": "stream",
     "text": [
      "5   1\n",
      "6"
     ]
    }
   ],
   "source": [
    "n=input()\n",
    "k=int(input())\n",
    "arr=n.split(\" \")\n",
    "newarr=[0]\n",
    "for i in range arr:\n",
    "    if i not in newarr:\n",
    "        newarr.append(i)\n",
    "newarr.pop(0)\n",
    "maxnum=newarr[k-1]\n",
    "newarr=newarr.reverse()\n",
    "minnum=nrwarr[k-1]\n",
    "total=maxnum+minnum\n",
    "print(total,end='')\n",
    "    "
   ]
  },
  {
   "cell_type": "code",
   "execution_count": null,
   "metadata": {},
   "outputs": [],
   "source": []
  }
 ],
 "metadata": {
  "kernelspec": {
   "display_name": "Python 3",
   "language": "python",
   "name": "python3"
  },
  "language_info": {
   "codemirror_mode": {
    "name": "ipython",
    "version": 3
   },
   "file_extension": ".py",
   "mimetype": "text/x-python",
   "name": "python",
   "nbconvert_exporter": "python",
   "pygments_lexer": "ipython3",
   "version": "3.8.5"
  }
 },
 "nbformat": 4,
 "nbformat_minor": 4
}
