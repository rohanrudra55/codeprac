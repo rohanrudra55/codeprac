{
 "cells": [
  {
   "cell_type": "code",
   "execution_count": 1,
   "id": "afab2492",
   "metadata": {},
   "outputs": [
    {
     "name": "stdout",
     "output_type": "stream",
     "text": [
      "Somrita Biswas\n"
     ]
    }
   ],
   "source": [
    "print('Somrita Biswas')"
   ]
  },
  {
   "cell_type": "code",
   "execution_count": 2,
   "id": "25c123c2",
   "metadata": {},
   "outputs": [
    {
     "data": {
      "text/plain": [
       "bool"
      ]
     },
     "execution_count": 2,
     "metadata": {},
     "output_type": "execute_result"
    }
   ],
   "source": [
    "type(6!=4)"
   ]
  },
  {
   "cell_type": "code",
   "execution_count": 3,
   "id": "9627487c",
   "metadata": {},
   "outputs": [
    {
     "name": "stdout",
     "output_type": "stream",
     "text": [
      "20\n",
      "Mya age is  20 .\n"
     ]
    }
   ],
   "source": [
    "yourAge=input()\n",
    "print('My age is ',yourAge,'.')"
   ]
  },
  {
   "cell_type": "code",
   "execution_count": null,
   "id": "ccdd24d9",
   "metadata": {},
   "outputs": [],
   "source": []
  }
 ],
 "metadata": {
  "kernelspec": {
   "display_name": "Python 3",
   "language": "python",
   "name": "python3"
  },
  "language_info": {
   "codemirror_mode": {
    "name": "ipython",
    "version": 3
   },
   "file_extension": ".py",
   "mimetype": "text/x-python",
   "name": "python",
   "nbconvert_exporter": "python",
   "pygments_lexer": "ipython3",
   "version": "3.9.2"
  }
 },
 "nbformat": 4,
 "nbformat_minor": 5
}
