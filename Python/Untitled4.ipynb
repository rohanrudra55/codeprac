{
 "cells": [
  {
   "cell_type": "code",
   "execution_count": 1,
   "metadata": {},
   "outputs": [
    {
     "name": "stdout",
     "output_type": "stream",
     "text": [
      "1 2 3 4 5 6 12 18 17 16 15 14 13 "
     ]
    }
   ],
   "source": [
    "def spiralprint(m,n,spiralmatrix):\n",
    "    k=0\n",
    "    l=0\n",
    "    while(k<m and l<n):\n",
    "        for i in range(l,n):\n",
    "            print(spiralmatrix[k][i],end=\" \")\n",
    "        k+=1\n",
    "        for i in range(k,m):\n",
    "            print(spiralmatrix[i][n-1],end=\" \")\n",
    "        n-=1\n",
    "        if(k<m):\n",
    "            for i in range(n-1,l-1,-1):\n",
    "                print(spiralmatrix[m-1][i],end=\" \")\n",
    "            m-=2\n",
    "        if(l<n):\n",
    "            for i in range(m-1,k-1,-1):\n",
    "                print(spiralmatrix[i][l],end=\" \")\n",
    "            l+=2\n",
    "spiralmatrix=[[1,2,3,4,5,6],[7,8,9,10,11,12],[13,14,15,16,17,18]]\n",
    "rows=3\n",
    "cols=6\n",
    "spiralprint(rows,cols,spiralmatrix)\n",
    "                "
   ]
  },
  {
   "cell_type": "code",
   "execution_count": 1,
   "metadata": {},
   "outputs": [
    {
     "ename": "SystemExit",
     "evalue": "0",
     "output_type": "error",
     "traceback": [
      "An exception has occurred, use %tb to see the full traceback.\n",
      "\u001b[0;31mSystemExit\u001b[0m\u001b[0;31m:\u001b[0m 0\n"
     ]
    },
    {
     "name": "stderr",
     "output_type": "stream",
     "text": [
      "/Users/alpha/opt/anaconda3/lib/python3.8/site-packages/IPython/core/interactiveshell.py:3426: UserWarning: To exit: use 'exit', 'quit', or Ctrl-D.\n",
      "  warn(\"To exit: use 'exit', 'quit', or Ctrl-D.\", stacklevel=1)\n"
     ]
    }
   ],
   "source": [
    "import turtle\n",
    "a=turtle.Turtle()\n",
    "for i in range(100):\n",
    "    a.dot()\n",
    "    a.backward(2)\n",
    "turtle.done()"
   ]
  },
  {
   "cell_type": "code",
   "execution_count": null,
   "metadata": {},
   "outputs": [],
   "source": []
  }
 ],
 "metadata": {
  "kernelspec": {
   "display_name": "Python 3",
   "language": "python",
   "name": "python3"
  },
  "language_info": {
   "codemirror_mode": {
    "name": "ipython",
    "version": 3
   },
   "file_extension": ".py",
   "mimetype": "text/x-python",
   "name": "python",
   "nbconvert_exporter": "python",
   "pygments_lexer": "ipython3",
   "version": "3.8.5"
  }
 },
 "nbformat": 4,
 "nbformat_minor": 4
}
