{
 "metadata": {
  "language_info": {
   "codemirror_mode": {
    "name": "ipython",
    "version": 3
   },
   "file_extension": ".py",
   "mimetype": "text/x-python",
   "name": "python",
   "nbconvert_exporter": "python",
   "pygments_lexer": "ipython3",
   "version": "3.9.2"
  },
  "orig_nbformat": 2,
  "kernelspec": {
   "name": "python392jvsc74a57bd0aee8b7b246df8f9039afb4144a1f6fd8d2ca17a180786b69acc140d282b71a49",
   "display_name": "Python 3.9.2 64-bit"
  }
 },
 "nbformat": 4,
 "nbformat_minor": 2,
 "cells": [
  {
   "cell_type": "code",
   "execution_count": 3,
   "metadata": {},
   "outputs": [
    {
     "output_type": "stream",
     "name": "stdout",
     "text": [
      "Weird\n"
     ]
    }
   ],
   "source": [
    "n=int(input())\n",
    "if ((n%2 !=0) or (n>5 and n<21)):\n",
    "    print(\"Weird\")\n",
    "elif ((n>1 and n<6) or (n>20)):\n",
    "    print(\"Not Weird\")\n"
   ]
  },
  {
   "cell_type": "code",
   "execution_count": 2,
   "metadata": {},
   "outputs": [
    {
     "output_type": "stream",
     "name": "stdout",
     "text": [
      "True\n"
     ]
    }
   ],
   "source": [
    "def leapyear(year):\n",
    "    if year%4==0:\n",
    "        if year%100==0:\n",
    "            print(\"True\")\n",
    "        else:\n",
    "            print(\"False\")\n",
    "    else:\n",
    "        print(\"False\")\n",
    "year=int(input())\n",
    "leapyear(year)"
   ]
  },
  {
   "cell_type": "code",
   "execution_count": 7,
   "metadata": {},
   "outputs": [
    {
     "output_type": "stream",
     "name": "stdout",
     "text": [
      "True\n",
      "True\n"
     ]
    }
   ],
   "source": [
    "a=int(input())\n",
    "def check(c,d,b):\n",
    "    count=0\n",
    "    for i in c:\n",
    "        if i in d:\n",
    "            count+=1\n",
    "    if count==b:\n",
    "        print(\"True\")\n",
    "    else:\n",
    "        print(\"False\")\n",
    "for i in range(a):\n",
    "    b=int(input())\n",
    "    c=input().split()\n",
    "    d=int(input())\n",
    "    e=input()\n",
    "    check(c,e,b)\n",
    "\n"
   ]
  },
  {
   "cell_type": "code",
   "execution_count": null,
   "metadata": {},
   "outputs": [],
   "source": [
    "sup_set=input().split()\n",
    "n=int(input())\n",
    "result=\"False\"\n",
    "def check(n_set):\n",
    "    count=0\n",
    "    for i in n_set:\n",
    "        if i in sup_set:\n",
    "            count+=1\n",
    "    if len(n_set)==count:\n",
    "        result=\"True\"\n",
    "    else:\n",
    "        result=\"False\"\n",
    "for i in range(n):\n",
    "    n_set=input().split()\n",
    "    if len(n_set)<len(sup_set):\n",
    "        check(n_set)\n",
    "    else:\n",
    "        result=\"False\"\n",
    "print(result)"
   ]
  },
  {
   "source": [
    "## The Minion Game (Limited)"
   ],
   "cell_type": "markdown",
   "metadata": {}
  },
  {
   "cell_type": "code",
   "execution_count": 25,
   "metadata": {},
   "outputs": [],
   "source": [
    "n=input()\n",
    "n=n.upper()\n",
    "def minion_game(n):\n",
    "    vowels=\"AEIOU\"\n",
    "    stuart=0\n",
    "    kevin=0\n",
    "    l=len(n)\n",
    "    for i in range(0,l):\n",
    "        for j in reversed(range(i,l)):\n",
    "            w=(n[i:j+1])\n",
    "            letter=w[0]\n",
    "            if letter in vowels:\n",
    "                kevin+=1\n",
    "            else:\n",
    "                stuart+=1\n",
    "\n",
    "    if stuart>kevin:\n",
    "        print(\"Stuart\",stuart)\n",
    "    elif stuart<kevin:\n",
    "        print(\"Kevin\",kevin)\n",
    "    else:\n",
    "        print(\"Draw\")\n",
    "minion_game(n)"
   ]
  },
  {
   "cell_type": "code",
   "execution_count": null,
   "metadata": {},
   "outputs": [],
   "source": [
    "# Compact \n",
    "n=input()\n",
    "n=n.upper()\n",
    "def minion_game(n):\n",
    "    vowels=\"AEIOU\"\n",
    "    stuart=0\n",
    "    kevin=0\n",
    "    l=len(n)\n",
    "    for i in range(0,l):\n",
    "        letter=n[i]\n",
    "        if letter in vowels:\n",
    "            kevin+=l-i\n",
    "        else:\n",
    "            stuart+=l-i\n",
    "\n",
    "    if stuart>kevin:\n",
    "        print(\"Stuart\",stuart)\n",
    "    elif stuart<kevin:\n",
    "        print(\"Kevin\",kevin)\n",
    "    else:\n",
    "        print(\"Draw\")\n",
    "minion_game(n)"
   ]
  },
  {
   "source": [
    "## UTC Calculate"
   ],
   "cell_type": "markdown",
   "metadata": {}
  },
  {
   "cell_type": "code",
   "execution_count": 6,
   "metadata": {},
   "outputs": [
    {
     "output_type": "stream",
     "name": "stdout",
     "text": [
      "0\n2015-05-10 13:54:36\n2015-05-10 13:54:36\n0:00:00\n0.0\n"
     ]
    }
   ],
   "source": [
    "import datetime\n",
    "n=int(input())\n",
    "def time(t):\n",
    "    months = ['Jan', 'Feb', 'Mar', 'Apr', 'May', 'Jun', 'Jul', 'Aug', 'Sep', 'Oct', 'Nov', 'Dec']\n",
    "    y=int(t[3])\n",
    "    d=int(t[1])\n",
    "    clock=(t[4]).split(\":\")\n",
    "    hh=int(clock[0])\n",
    "    mm=int(clock[1])\n",
    "    ss=int(clock[2])\n",
    "    m=int(months.index(t[2]))+1\n",
    "    return y,m,d,hh,mm,ss\n",
    "for i in range(n):\n",
    "    t1=input().split()\n",
    "    t2=input().split()\n",
    "    utc1=int(t1[5])\n",
    "    utc2=int(t2[5])\n",
    "    utc=-((utc1//100)*3600 + (utc1%100)*60-(utc2//100)*3600 + (utc2%100)*60)\n",
    "    \n",
    "    y,m,d,h,mm,s=time(t1)\n",
    "    a = datetime.datetime(y,m,d,h,mm,s)\n",
    "    y,m,d,h,mm,s=time(t2)\n",
    "    b = datetime.datetime(y,m,d,h,mm,s)\n",
    "    c = a-b\n",
    "    sec = c.total_seconds()\n",
    "    sec=int(sec+utc)\n",
    "    print(sec)"
   ]
  },
  {
   "source": [
    "## Palindrome"
   ],
   "cell_type": "markdown",
   "metadata": {}
  },
  {
   "cell_type": "code",
   "execution_count": null,
   "metadata": {},
   "outputs": [],
   "source": [
    "n=int(input())\n",
    "def palin(a):\n",
    "    pal=\"\"\n",
    "    for i in range(1,a+1):\n",
    "        pal=pal+str(i)\n",
    "    rev=pal[::-1]\n",
    "    result=int(pal+rev[1:])\n",
    "    return result\n",
    "for i in range(1,n+1):\n",
    "     print(palin(i))\n",
    "    \n"
   ]
  },
  {
   "cell_type": "code",
   "execution_count": null,
   "metadata": {},
   "outputs": [],
   "source": [
    "print(''.join(str(x) for x in range(1,i+1)),''.join(str(x) for x in range(i-1,0,-1)),sep='')\n",
    "print(*range(1,i+1),*range(i-1,0,-1),sep='')"
   ]
  }
 ]
}