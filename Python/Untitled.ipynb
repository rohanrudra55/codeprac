{
 "cells": [
  {
   "cell_type": "code",
   "execution_count": 8,
   "metadata": {},
   "outputs": [
    {
     "name": "stdout",
     "output_type": "stream",
     "text": [
      "Ajay\n",
      "Sem : 3\n",
      "roll_no : 1\n",
      "Total_marks : 86\n",
      "Akash\n",
      "Sem : 4\n",
      "roll_no : 4\n",
      "Total_marks : 89\n"
     ]
    }
   ],
   "source": [
    "students={'Ajay':{'Sem':'3','roll_no':1,'Total_marks':86},'Akash':{'Sem':'4','roll_no':4,'Total_marks':89}}\n",
    "for a in students:\n",
    "    print(a)\n",
    "    for b in students[a]:\n",
    "        print(b,':',students[a][b])\n",
    "\t \n",
    "       \n",
    "\n"
   ]
  },
  {
   "cell_type": "code",
   "execution_count": null,
   "metadata": {},
   "outputs": [],
   "source": []
  },
  {
   "cell_type": "code",
   "execution_count": null,
   "metadata": {},
   "outputs": [],
   "source": []
  }
 ],
 "metadata": {
  "kernelspec": {
   "display_name": "Python 3",
   "language": "python",
   "name": "python3"
  },
  "language_info": {
   "codemirror_mode": {
    "name": "ipython",
    "version": 3
   },
   "file_extension": ".py",
   "mimetype": "text/x-python",
   "name": "python",
   "nbconvert_exporter": "python",
   "pygments_lexer": "ipython3",
   "version": "3.8.5"
  }
 },
 "nbformat": 4,
 "nbformat_minor": 4
}
