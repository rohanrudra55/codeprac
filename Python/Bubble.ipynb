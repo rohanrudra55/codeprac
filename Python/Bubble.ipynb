{
 "cells": [
  {
   "cell_type": "code",
   "execution_count": 5,
   "metadata": {},
   "outputs": [
    {
     "name": "stdin",
     "output_type": "stream",
     "text": [
      " 3 4 2 1 5\n"
     ]
    },
    {
     "name": "stdout",
     "output_type": "stream",
     "text": [
      "5\n"
     ]
    }
   ],
   "source": [
    "n=input()\n",
    "c=0\n",
    "arr=n.split(\" \")\n",
    "for i in range (0,len(arr)):\n",
    "    for j in range(0,len(arr)-i-1):\n",
    "        if(int(arr[j])>int(arr[j+1])):\n",
    "            t=arr[j]\n",
    "            arr[j]=arr[j+1]\n",
    "            arr[j+1]=t\n",
    "            c+=1\n",
    "print(c)"
   ]
  },
  {
   "source": [
    "# Exam"
   ],
   "cell_type": "markdown",
   "metadata": {}
  },
  {
   "cell_type": "code",
   "execution_count": 14,
   "metadata": {},
   "outputs": [
    {
     "output_type": "stream",
     "name": "stdout",
     "text": [
      "Yes"
     ]
    }
   ],
   "source": [
    "import string\n",
    "plain=input()\n",
    "chipper=input()\n",
    "if len(plain)==len(chipper):\n",
    "    def split(word):\n",
    "        return [char for char in word]\n",
    "    plain=plain.upper()\n",
    "    chipper=split(chipper.upper()).sort()\n",
    "    letters=string.ascii_uppercase\n",
    "    encrypted=[]\n",
    "    for i in plain:\n",
    "        if i in letters:\n",
    "            a=ord(i)-65\n",
    "            c=int((a+5)%26)\n",
    "            encrypted.append(letters[c])\n",
    "    encrypted.sort()\n",
    "    f=0\n",
    "    for i in range(len(encrypted)):\n",
    "        if encrypted[i]!=chipper[i]:\n",
    "            f=1\n",
    "            break\n",
    "    if(f==0):\n",
    "        print(\"Yes\",end='')\n",
    "    else:\n",
    "        print(\"No\",end='')\n",
    "else:\n",
    "    print(\"No\",end='')\n",
    "\n"
   ]
  },
  {
   "cell_type": "code",
   "execution_count": 20,
   "metadata": {},
   "outputs": [
    {
     "output_type": "stream",
     "name": "stdout",
     "text": [
      "['PYTHON', 'TDMSUY']\n"
     ]
    }
   ],
   "source": [
    "a=\"PYTHON TDMSUY\"\n",
    "a=a.split()\n",
    "print(a)"
   ]
  },
  {
   "cell_type": "code",
   "execution_count": 1,
   "metadata": {},
   "outputs": [
    {
     "output_type": "stream",
     "name": "stdout",
     "text": [
      "3.8.2\n"
     ]
    }
   ],
   "source": [
    "from platform import python_version\n",
    "\n",
    "print(python_version())"
   ]
  },
  {
   "cell_type": "code",
   "execution_count": null,
   "metadata": {},
   "outputs": [],
   "source": []
  }
 ],
 "metadata": {
  "kernelspec": {
   "name": "python3810jvsc74a57bd0aee8b7b246df8f9039afb4144a1f6fd8d2ca17a180786b69acc140d282b71a49",
   "display_name": "Python 3.8.10 64-bit"
  },
  "language_info": {
   "codemirror_mode": {
    "name": "ipython",
    "version": 3
   },
   "file_extension": ".py",
   "mimetype": "text/x-python",
   "name": "python",
   "nbconvert_exporter": "python",
   "pygments_lexer": "ipython3",
   "version": "3.8.10"
  },
  "metadata": {
   "interpreter": {
    "hash": "aee8b7b246df8f9039afb4144a1f6fd8d2ca17a180786b69acc140d282b71a49"
   }
  }
 },
 "nbformat": 4,
 "nbformat_minor": 4
}