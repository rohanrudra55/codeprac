{
 "cells": [
  {
   "cell_type": "code",
   "execution_count": 23,
   "metadata": {},
   "outputs": [
    {
     "name": "stdin",
     "output_type": "stream",
     "text": [
      " 1 3 4 1 2 5 7 3 6 8 9 3\n",
      " 6\n"
     ]
    },
    {
     "name": "stdout",
     "output_type": "stream",
     "text": [
      "['1', '2', '3', '4', '5', '6', '7', '8', '9'] 6\n",
      "6 4 ['9', '8', '7', '6', '5', '4', '3', '2', '1']\n",
      "10"
     ]
    }
   ],
   "source": [
    "n=input()\n",
    "k=int(input())\n",
    "arr=n.split(\" \")\n",
    "newarr=[0]\n",
    "arr.sort()\n",
    "for i in arr :\n",
    "    if i not in newarr :\n",
    "        newarr.append(i)\n",
    "newarr.pop(0)\n",
    "print(newarr,k)\n",
    "maxnum=int(newarr[k-1])\n",
    "newarr.reverse()\n",
    "minnum=int(newarr[k-1])\n",
    "print(maxnum,minnum,newarr)\n",
    "total=maxnum+minnum\n",
    "print(total,end='')\n",
    "    "
   ]
  },
  {
   "cell_type": "code",
   "execution_count": null,
   "metadata": {},
   "outputs": [],
   "source": []
  },
  {
   "cell_type": "code",
   "execution_count": null,
   "metadata": {},
   "outputs": [],
   "source": []
  }
 ],
 "metadata": {
  "kernelspec": {
   "display_name": "Python 3",
   "language": "python",
   "name": "python3"
  },
  "language_info": {
   "codemirror_mode": {
    "name": "ipython",
    "version": 3
   },
   "file_extension": ".py",
   "mimetype": "text/x-python",
   "name": "python",
   "nbconvert_exporter": "python",
   "pygments_lexer": "ipython3",
   "version": "3.8.5"
  }
 },
 "nbformat": 4,
 "nbformat_minor": 4
}
