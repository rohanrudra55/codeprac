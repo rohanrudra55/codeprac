{
 "cells": [
  {
   "cell_type": "code",
   "execution_count": 3,
   "metadata": {},
   "outputs": [
    {
     "name": "stdin",
     "output_type": "stream",
     "text": [
      "Player one! Input your secret code:  102\n",
      "Player two! Input your secret code:  239\n",
      "Enter the secret bit position player one:  0\n",
      "Enter the secret bit position player two:  2\n"
     ]
    },
    {
     "name": "stdout",
     "output_type": "stream",
     "text": [
      "Player two wins!\n"
     ]
    },
    {
     "name": "stdin",
     "output_type": "stream",
     "text": [
      "Do you want to continue ? (Y/N) N\n"
     ]
    },
    {
     "name": "stdout",
     "output_type": "stream",
     "text": [
      "It has been a fair game\n"
     ]
    }
   ],
   "source": [
    "def game(num1,num2,bit1,bit2):\n",
    "    p1=int(num1[bit1])%3\n",
    "    p2=int(num2[bit2])%3\n",
    "    if(player_one[p1]==player_two[p2]):\n",
    "        print(\"Draw\")\n",
    "    elif(player_one[p1]=='Rock' and player_two[p2]=='Scissor'):\n",
    "        print(\"Player one wins!\")\n",
    "    elif(player_one[p1]=='Paper' and player_two[p2]=='Rock'):\n",
    "        print(\"Player two wins!\")\n",
    "    elif(player_one[p1]=='Scissor' and player_two[p2]=='Paper'):\n",
    "        print(\"Player one wins!\")\n",
    "    else:\n",
    "        print(\"Player two wins!\")\n",
    "\n",
    "\n",
    "player_one={0:'Rock',1:'Paper',2:'Scissor'}\n",
    "player_two={0:'Scissor',1:'Rock',2:'Paper'}\n",
    "code1=input(\"Player one! Input your secret code: \")\n",
    "code2=input(\"Player two! Input your secret code: \")\n",
    "while(1):\n",
    "    pos1=int(input(\"Enter the secret bit position player one: \"))\n",
    "    pos2=int(input(\"Enter the secret bit position player two: \"))\n",
    "    game(code1,code2,pos1,pos2)\n",
    "    ch=input(\"Do you want to continue ? (Y/N)\")\n",
    "    if(ch=='N'):\n",
    "        print(\"Goodbye :) ! It has been a fair game\")\n",
    "        break"
   ]
  },
  {
   "cell_type": "code",
   "execution_count": null,
   "metadata": {},
   "outputs": [],
   "source": []
  }
 ],
 "metadata": {
  "kernelspec": {
   "display_name": "Python 3",
   "language": "python",
   "name": "python3"
  },
  "language_info": {
   "codemirror_mode": {
    "name": "ipython",
    "version": 3
   },
   "file_extension": ".py",
   "mimetype": "text/x-python",
   "name": "python",
   "nbconvert_exporter": "python",
   "pygments_lexer": "ipython3",
   "version": "3.8.5"
  }
 },
 "nbformat": 4,
 "nbformat_minor": 4
}
