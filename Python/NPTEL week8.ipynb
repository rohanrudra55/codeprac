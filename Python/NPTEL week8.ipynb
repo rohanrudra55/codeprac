{
 "cells": [
  {
   "cell_type": "code",
   "execution_count": 3,
   "metadata": {},
   "outputs": [
    {
     "name": "stdout",
     "output_type": "stream",
     "text": [
      "madan\n"
     ]
    }
   ],
   "source": [
    "name =('kiran','bhushan','madan')\n",
    "print (name[-1])"
   ]
  },
  {
   "cell_type": "code",
   "execution_count": 5,
   "metadata": {},
   "outputs": [
    {
     "name": "stdin",
     "output_type": "stream",
     "text": [
      " 10\n"
     ]
    }
   ],
   "source": [
    "import random\n",
    "random_number=random.randint(1,10)\n",
    "tries=0\n",
    "x=int(input())\n",
    "while x!=random_number:\n",
    "    tries+=1\n",
    "    x=int(input())\n",
    "    if x==random_number:\n",
    "        print(\"stop\")"
   ]
  },
  {
   "cell_type": "code",
   "execution_count": 8,
   "metadata": {},
   "outputs": [
    {
     "name": "stdout",
     "output_type": "stream",
     "text": [
      "3\n"
     ]
    },
    {
     "name": "stdin",
     "output_type": "stream",
     "text": [
      " 1\n",
      " 2\n",
      " 3\n",
      " 3\n",
      " 3\n",
      " 3\n",
      " 3\n",
      " 3\n",
      " 3\n",
      " 3\n"
     ]
    },
    {
     "data": {
      "image/png": "[encoded data removed]",
      "text/plain": [
       "<Figure size 432x288 with 1 Axes>"
      ]
     },
     "metadata": {
      "needs_background": "light"
     },
     "output_type": "display_data"
    }
   ],
   "source": [
    "import random\n",
    "import matplotlib.pyplot as plt\n",
    "rn=random.randint(0,9)\n",
    "print(rn)\n",
    "l=[0 for i in range(10)]\n",
    "y=[]\n",
    "for i in range(10):\n",
    "    x=int(input())\n",
    "    y.append(i)\n",
    "    if x==rn:\n",
    "        l[x]+=1\n",
    "plt.plot(y,l)\n",
    "plt.show()\n",
    "    "
   ]
  },
  {
   "cell_type": "code",
   "execution_count": 10,
   "metadata": {},
   "outputs": [
    {
     "name": "stdin",
     "output_type": "stream",
     "text": [
      "  I AM A BOY\n"
     ]
    },
    {
     "name": "stdout",
     "output_type": "stream",
     "text": [
      "iamaboy\n"
     ]
    }
   ],
   "source": [
    "strng=input()\n",
    "out=''\n",
    "for i in strng:\n",
    "    if ord(i)>=65 and ord(i)<=90:\n",
    "        j=ord(i)+32\n",
    "        k=chr(j)\n",
    "        out=out+k\n",
    "print(out)"
   ]
  },
  {
   "cell_type": "code",
   "execution_count": 12,
   "metadata": {},
   "outputs": [
    {
     "name": "stdin",
     "output_type": "stream",
     "text": [
      " I Am a Boy\n"
     ]
    },
    {
     "name": "stdout",
     "output_type": "stream",
     "text": [
      "i am a boy\n"
     ]
    }
   ],
   "source": [
    "strng=input()\n",
    "out=''\n",
    "for i in strng:\n",
    "    if i not in 'ABCDEFGHIJKLMNOPQRSTUVWXYZ':\n",
    "        out=out+i\n",
    "    else:\n",
    "        j=ord(i)\n",
    "        k=j+32\n",
    "        out=out+chr(k)\n",
    "        \n",
    "print(out)"
   ]
  },
  {
   "cell_type": "code",
   "execution_count": null,
   "metadata": {},
   "outputs": [],
   "source": [
    "text1=input()\n",
    "len1=len(text1)\n",
    "text2=input()\n",
    "len2=len(text2)\n",
    "for i in range(0,len1-len2+1):\n",
    "    j=0\n",
    "    while((j<len2) and (text1[i+j]==text2[j])):\n",
    "        j=j+1\n",
    "    if(j==len2):\n",
    "        print(text2)"
   ]
  },
  {
   "cell_type": "code",
   "execution_count": null,
   "metadata": {},
   "outputs": [],
   "source": []
  }
 ],
 "metadata": {
  "kernelspec": {
   "display_name": "Python 3",
   "language": "python",
   "name": "python3"
  },
  "language_info": {
   "codemirror_mode": {
    "name": "ipython",
    "version": 3
   },
   "file_extension": ".py",
   "mimetype": "text/x-python",
   "name": "python",
   "nbconvert_exporter": "python",
   "pygments_lexer": "ipython3",
   "version": "3.8.5"
  }
 },
 "nbformat": 4,
 "nbformat_minor": 4
}
