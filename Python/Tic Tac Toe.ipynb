{
 "cells": [
  {
   "cell_type": "code",
   "execution_count": 4,
   "metadata": {},
   "outputs": [
    {
     "name": "stdout",
     "output_type": "stream",
     "text": [
      "Start\n",
      "Put X\n",
      "[['-' '-' '-']\n",
      " ['-' '-' '-']\n",
      " ['-' '-' '-']]\n"
     ]
    },
    {
     "name": "stdin",
     "output_type": "stream",
     "text": [
      "Enter row 1 or 2 or 3 2\n",
      "Enter coloum 1 2 or 3 2\n"
     ]
    },
    {
     "name": "stdout",
     "output_type": "stream",
     "text": [
      "Put O\n",
      "[['-' '-' '-']\n",
      " ['-' 'X' '-']\n",
      " ['-' '-' '-']]\n"
     ]
    },
    {
     "name": "stdin",
     "output_type": "stream",
     "text": [
      "Enter row 1 or 2 or 3 2\n",
      "Enter coloum 1 2 or 3 3\n"
     ]
    },
    {
     "name": "stdout",
     "output_type": "stream",
     "text": [
      "Put X\n",
      "[['-' '-' '-']\n",
      " ['-' 'X' 'O']\n",
      " ['-' '-' '-']]\n"
     ]
    },
    {
     "name": "stdin",
     "output_type": "stream",
     "text": [
      "Enter row 1 or 2 or 3 2\n",
      "Enter coloum 1 2 or 3 1\n"
     ]
    },
    {
     "name": "stdout",
     "output_type": "stream",
     "text": [
      "Put O\n",
      "[['-' '-' '-']\n",
      " ['X' 'X' 'O']\n",
      " ['-' '-' '-']]\n"
     ]
    },
    {
     "name": "stdin",
     "output_type": "stream",
     "text": [
      "Enter row 1 or 2 or 3 3\n",
      "Enter coloum 1 2 or 3 3\n"
     ]
    },
    {
     "name": "stdout",
     "output_type": "stream",
     "text": [
      "Put X\n",
      "[['-' '-' '-']\n",
      " ['X' 'X' 'O']\n",
      " ['-' '-' 'O']]\n"
     ]
    },
    {
     "name": "stdin",
     "output_type": "stream",
     "text": [
      "Enter row 1 or 2 or 3 0\n",
      "Enter coloum 1 2 or 3 3\n"
     ]
    },
    {
     "name": "stdout",
     "output_type": "stream",
     "text": [
      "Invalid Input tray again\n"
     ]
    },
    {
     "name": "stdin",
     "output_type": "stream",
     "text": [
      "Enter row 1 or 2 or 3 1\n",
      "Enter coloum 1 2 or 3 3\n"
     ]
    },
    {
     "name": "stdout",
     "output_type": "stream",
     "text": [
      "Put O\n",
      "[['-' '-' 'X']\n",
      " ['X' 'X' 'O']\n",
      " ['-' '-' 'O']]\n"
     ]
    },
    {
     "name": "stdin",
     "output_type": "stream",
     "text": [
      "Enter row 1 or 2 or 3 1\n",
      "Enter coloum 1 2 or 3 1\n"
     ]
    },
    {
     "name": "stdout",
     "output_type": "stream",
     "text": [
      "Put X\n",
      "[['O' '-' 'X']\n",
      " ['X' 'X' 'O']\n",
      " ['-' '-' 'O']]\n"
     ]
    },
    {
     "name": "stdin",
     "output_type": "stream",
     "text": [
      "Enter row 1 or 2 or 3 1\n",
      "Enter coloum 1 2 or 3 \n"
     ]
    },
    {
     "ename": "ValueError",
     "evalue": "invalid literal for int() with base 10: ''",
     "output_type": "error",
     "traceback": [
      "\u001b[0;31m---------------------------------------------------------------------------\u001b[0m",
      "\u001b[0;31mValueError\u001b[0m                                Traceback (most recent call last)",
      "\u001b[0;32m<ipython-input-4-620da84a0812>\u001b[0m in \u001b[0;36m<module>\u001b[0;34m\u001b[0m\n\u001b[1;32m     72\u001b[0m \u001b[0;34m\u001b[0m\u001b[0m\n\u001b[1;32m     73\u001b[0m \u001b[0;34m\u001b[0m\u001b[0m\n\u001b[0;32m---> 74\u001b[0;31m \u001b[0mplay\u001b[0m\u001b[0;34m(\u001b[0m\u001b[0;34m)\u001b[0m\u001b[0;34m\u001b[0m\u001b[0;34m\u001b[0m\u001b[0m\n\u001b[0m",
      "\u001b[0;32m<ipython-input-4-620da84a0812>\u001b[0m in \u001b[0;36mplay\u001b[0;34m()\u001b[0m\n\u001b[1;32m     58\u001b[0m         \u001b[0;32mif\u001b[0m\u001b[0;34m(\u001b[0m\u001b[0mturn\u001b[0m\u001b[0;34m%\u001b[0m\u001b[0;36m2\u001b[0m\u001b[0;34m==\u001b[0m\u001b[0;36m0\u001b[0m\u001b[0;34m)\u001b[0m\u001b[0;34m:\u001b[0m\u001b[0;34m\u001b[0m\u001b[0;34m\u001b[0m\u001b[0m\n\u001b[1;32m     59\u001b[0m             \u001b[0mprint\u001b[0m\u001b[0;34m(\u001b[0m\u001b[0;34m\"Put X\"\u001b[0m\u001b[0;34m)\u001b[0m\u001b[0;34m\u001b[0m\u001b[0;34m\u001b[0m\u001b[0m\n\u001b[0;32m---> 60\u001b[0;31m             \u001b[0mplace\u001b[0m\u001b[0;34m(\u001b[0m\u001b[0mp1s\u001b[0m\u001b[0;34m)\u001b[0m\u001b[0;34m\u001b[0m\u001b[0;34m\u001b[0m\u001b[0m\n\u001b[0m\u001b[1;32m     61\u001b[0m             \u001b[0;32mif\u001b[0m \u001b[0mwon\u001b[0m\u001b[0;34m(\u001b[0m\u001b[0mp1s\u001b[0m\u001b[0;34m)\u001b[0m\u001b[0;34m:\u001b[0m\u001b[0;34m\u001b[0m\u001b[0;34m\u001b[0m\u001b[0m\n\u001b[1;32m     62\u001b[0m                 \u001b[0;32mbreak\u001b[0m\u001b[0;34m\u001b[0m\u001b[0;34m\u001b[0m\u001b[0m\n",
      "\u001b[0;32m<ipython-input-4-620da84a0812>\u001b[0m in \u001b[0;36mplace\u001b[0;34m(symbol)\u001b[0m\n\u001b[1;32m     47\u001b[0m     \u001b[0;32mwhile\u001b[0m\u001b[0;34m(\u001b[0m\u001b[0;36m1\u001b[0m\u001b[0;34m)\u001b[0m\u001b[0;34m:\u001b[0m\u001b[0;34m\u001b[0m\u001b[0;34m\u001b[0m\u001b[0m\n\u001b[1;32m     48\u001b[0m         \u001b[0mrow\u001b[0m\u001b[0;34m=\u001b[0m\u001b[0mint\u001b[0m\u001b[0;34m(\u001b[0m\u001b[0minput\u001b[0m\u001b[0;34m(\u001b[0m\u001b[0;34m'Enter row 1 or 2 or 3'\u001b[0m\u001b[0;34m)\u001b[0m\u001b[0;34m)\u001b[0m\u001b[0;34m\u001b[0m\u001b[0;34m\u001b[0m\u001b[0m\n\u001b[0;32m---> 49\u001b[0;31m         \u001b[0mcoloum\u001b[0m\u001b[0;34m=\u001b[0m\u001b[0mint\u001b[0m\u001b[0;34m(\u001b[0m\u001b[0minput\u001b[0m\u001b[0;34m(\u001b[0m\u001b[0;34m'Enter coloum 1 2 or 3'\u001b[0m\u001b[0;34m)\u001b[0m\u001b[0;34m)\u001b[0m\u001b[0;34m\u001b[0m\u001b[0;34m\u001b[0m\u001b[0m\n\u001b[0m\u001b[1;32m     50\u001b[0m         \u001b[0;32mif\u001b[0m \u001b[0mrow\u001b[0m\u001b[0;34m>\u001b[0m\u001b[0;36m0\u001b[0m \u001b[0;32mand\u001b[0m \u001b[0mrow\u001b[0m\u001b[0;34m<\u001b[0m\u001b[0;36m4\u001b[0m \u001b[0;32mand\u001b[0m \u001b[0mcoloum\u001b[0m\u001b[0;34m>\u001b[0m\u001b[0;36m0\u001b[0m \u001b[0;32mand\u001b[0m \u001b[0mcoloum\u001b[0m \u001b[0;34m<\u001b[0m\u001b[0;36m4\u001b[0m \u001b[0;32mand\u001b[0m \u001b[0mboard\u001b[0m\u001b[0;34m[\u001b[0m\u001b[0mrow\u001b[0m\u001b[0;34m-\u001b[0m\u001b[0;36m1\u001b[0m\u001b[0;34m]\u001b[0m\u001b[0;34m[\u001b[0m\u001b[0mcoloum\u001b[0m\u001b[0;34m-\u001b[0m\u001b[0;36m1\u001b[0m\u001b[0;34m]\u001b[0m\u001b[0;34m==\u001b[0m\u001b[0;34m'-'\u001b[0m\u001b[0;34m:\u001b[0m\u001b[0;34m\u001b[0m\u001b[0;34m\u001b[0m\u001b[0m\n\u001b[1;32m     51\u001b[0m             \u001b[0;32mbreak\u001b[0m\u001b[0;34m\u001b[0m\u001b[0;34m\u001b[0m\u001b[0m\n",
      "\u001b[0;31mValueError\u001b[0m: invalid literal for int() with base 10: ''"
     ]
    }
   ],
   "source": [
    "import numpy\n",
    "board=numpy.array([['-','-','-'],['-','-','-'],['-','-','-']])\n",
    "p1s='X'\n",
    "p2s='O'\n",
    "print(\"Start\")\n",
    "\n",
    "def check_rows(symbol):\n",
    "    c=0\n",
    "    for i in range(3):\n",
    "        c=0\n",
    "        for j in range(3):\n",
    "            if(board[i][j]==symbol):\n",
    "                c+=1\n",
    "    if c==3:\n",
    "        print(\"won\")\n",
    "        return True\n",
    "    else:\n",
    "        return False\n",
    "def check_coloums(symbol):\n",
    "    c=0\n",
    "    for i in range(3):\n",
    "        \n",
    "        c=0\n",
    "        for j in range(3):\n",
    "            if(board[j][i]==symbol):\n",
    "                c+=1\n",
    "    if(c==3):\n",
    "        print(\"Won\")\n",
    "        return True\n",
    "    else:\n",
    "        return False\n",
    "def check_diag(symbol):\n",
    "    if board[0][0]==board[1][1] and board[1][1]==board[2][2]:\n",
    "        print(\"Won\")\n",
    "        return True\n",
    "    if board[0][2]==board[1][1] and board[2][0]==board[1][1]:\n",
    "        print(\"Won\")\n",
    "        return True\n",
    "    else:\n",
    "        return False\n",
    "                \n",
    "def won(symbol):\n",
    "    return check_rows(symbol) or check_coloums(symbol) or check_diag(symbol)\n",
    "\n",
    "def place(symbol):\n",
    "    print(numpy.matrix(board))\n",
    "    while(1):\n",
    "        row=int(input('Enter row 1 or 2 or 3'))\n",
    "        coloum=int(input('Enter coloum 1 2 or 3'))\n",
    "        if row>0 and row<4 and coloum>0 and coloum <4 and board[row-1][coloum-1]=='-':\n",
    "            break\n",
    "        else:\n",
    "            print('Invalid Input tray again')\n",
    "    board[row-1][coloum-1]=symbol\n",
    "\n",
    "def play():\n",
    "    for turn in range(9):\n",
    "        if(turn%2==0):\n",
    "            print(\"Put X\")\n",
    "            place(p1s)\n",
    "            if won(p1s):\n",
    "                break\n",
    "        else:\n",
    "            print(\"Put O\")\n",
    "            place(p2s)\n",
    "            if won(p2s):\n",
    "                break\n",
    "    if not(won(p1s)) and not(won(p2s)):\n",
    "        print(\"Draw\")\n",
    "\n",
    "        \n",
    "        \n",
    "        \n",
    "play()    "
   ]
  },
  {
   "cell_type": "code",
   "execution_count": null,
   "metadata": {},
   "outputs": [],
   "source": []
  }
 ],
 "metadata": {
  "kernelspec": {
   "display_name": "Python 3",
   "language": "python",
   "name": "python3"
  },
  "language_info": {
   "codemirror_mode": {
    "name": "ipython",
    "version": 3
   },
   "file_extension": ".py",
   "mimetype": "text/x-python",
   "name": "python",
   "nbconvert_exporter": "python",
   "pygments_lexer": "ipython3",
   "version": "3.8.5"
  }
 },
 "nbformat": 4,
 "nbformat_minor": 4
}
