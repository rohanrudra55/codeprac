{
 "cells": [
  {
   "cell_type": "code",
   "execution_count": 4,
   "metadata": {},
   "outputs": [
    {
     "name": "stdout",
     "output_type": "stream",
     "text": [
      " 10 \n",
      " 10\n",
      " 10 3 \n",
      " 10 3\n",
      " 10 3 2 \n",
      " 10 3 2\n",
      "2 3 01 \n"
     ]
    }
   ],
   "source": [
    "some_list={'abc':10,'xyz':3,'pqr':2}\n",
    "s=' '\n",
    "for i in some_list:\n",
    "    s=s+str(some_list[i])+' '\n",
    "    print(s)\n",
    "    s1=s[:-1]\n",
    "    print(s1)\n",
    "print(s1[::-1])"
   ]
  },
  {
   "cell_type": "code",
   "execution_count": null,
   "metadata": {},
   "outputs": [],
   "source": []
  },
  {
   "cell_type": "code",
   "execution_count": null,
   "metadata": {},
   "outputs": [],
   "source": []
  }
 ],
 "metadata": {
  "kernelspec": {
   "display_name": "Python 3",
   "language": "python",
   "name": "python3"
  },
  "language_info": {
   "codemirror_mode": {
    "name": "ipython",
    "version": 3
   },
   "file_extension": ".py",
   "mimetype": "text/x-python",
   "name": "python",
   "nbconvert_exporter": "python",
   "pygments_lexer": "ipython3",
   "version": "3.8.5"
  }
 },
 "nbformat": 4,
 "nbformat_minor": 4
}
