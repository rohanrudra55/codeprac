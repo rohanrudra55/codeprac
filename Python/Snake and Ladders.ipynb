{
 "cells": [
  {
   "cell_type": "code",
   "execution_count": 1,
   "metadata": {},
   "outputs": [
    {
     "name": "stdin",
     "output_type": "stream",
     "text": [
      "Enter your name rr\n",
      "Enter your name rt\n"
     ]
    },
    {
     "name": "stdout",
     "output_type": "stream",
     "text": [
      "rr it's your turn.\n"
     ]
    },
    {
     "name": "stdin",
     "output_type": "stream",
     "text": [
      "Press 1 to roll or 2 to quit: 1\n"
     ]
    },
    {
     "name": "stdout",
     "output_type": "stream",
     "text": [
      "Dice: 1\n",
      "Score: 1\n",
      "\n",
      "rt it's your turn.\n"
     ]
    },
    {
     "name": "stdin",
     "output_type": "stream",
     "text": [
      "Press 1 to roll and 2 to quit: 1\n"
     ]
    },
    {
     "name": "stdout",
     "output_type": "stream",
     "text": [
      "Dice: 6\n",
      "Score: 6\n",
      "\n",
      "rr it's your turn.\n"
     ]
    },
    {
     "name": "stdin",
     "output_type": "stream",
     "text": [
      "Press 1 to roll or 2 to quit: 2\n"
     ]
    },
    {
     "name": "stdout",
     "output_type": "stream",
     "text": [
      "Thanks for playing.\n"
     ]
    }
   ],
   "source": [
    "from PIL import Image\n",
    "import random\n",
    "ladders={\"1\":38,\"4\":14,\"9\":31,\"28\":84,\"21\":42,\"80\":100,\"51\":67}\n",
    "snakes={\"62\":19,\"17\":7,\"54\":34,\"87\":24,\"93\":73,\"98\":79,\"64\":60}\n",
    "def show():\n",
    "    img=Image.open('Board.jpg')\n",
    "    img.show()\n",
    "\n",
    "def roll(points):\n",
    "    #print(points)\n",
    "    dice=random.randint(1,6)\n",
    "    print(\"Dice:\",dice)\n",
    "    points=dice+points\n",
    "    dice=str(dice+points)\n",
    "    #check for ladders\n",
    "    \n",
    "    if dice in ladders:\n",
    "        points=ladders[dice]\n",
    "        print(\"Wow ! Climb up.\")\n",
    "    #check for snakes\n",
    "    \n",
    "    if dice in snakes:\n",
    "        points=snakes[dice]\n",
    "        print(\"Oh no! Snakes.\")\n",
    "    return points\n",
    "    \n",
    "    \n",
    "def play():\n",
    "    player1=input(\"Enter your name\")\n",
    "    player2=input(\"Enter your name\")\n",
    "    points1=0\n",
    "    points2=0\n",
    "    turns=0\n",
    "    show()\n",
    "    while(1):\n",
    "        #player one\n",
    "        if turns%2==0:\n",
    "            c=0\n",
    "            print(player1,\"it's your turn.\")\n",
    "            c=int(input(\"Press 1 to roll or 2 to quit:\"))\n",
    "            if c==1:\n",
    "                points1=roll(points1)\n",
    "                if points1==100:\n",
    "                    print(player1,\"You won!\")\n",
    "                    break\n",
    "                else:\n",
    "                    print(\"Score:\",points1)\n",
    "            else:\n",
    "                print(\"Thanks for playing.\")\n",
    "                break\n",
    "        #player two\n",
    "        else:\n",
    "            c=0\n",
    "            print(player2,\"it's your turn.\")\n",
    "            c=int(input(\"Press 1 to roll and 2 to quit:\"))\n",
    "            if c==1:\n",
    "                points2=roll(points2)\n",
    "                if points2==100:\n",
    "                    print(player2,\"You won!\")\n",
    "                    break\n",
    "                else:\n",
    "                    print(\"Score:\",points2)\n",
    "            else:\n",
    "                print(\"Thanks for playing.\")\n",
    "                break\n",
    "        print()\n",
    "        #player iterate\n",
    "        turns=turns+1\n",
    "            \n",
    "                \n",
    "        \n",
    "play()       \n",
    "\n",
    "\n"
   ]
  },
  {
   "cell_type": "code",
   "execution_count": null,
   "metadata": {},
   "outputs": [],
   "source": []
  },
  {
   "cell_type": "code",
   "execution_count": null,
   "metadata": {},
   "outputs": [],
   "source": []
  }
 ],
 "metadata": {
  "kernelspec": {
   "display_name": "Python 3",
   "language": "python",
   "name": "python3"
  },
  "language_info": {
   "codemirror_mode": {
    "name": "ipython",
    "version": 3
   },
   "file_extension": ".py",
   "mimetype": "text/x-python",
   "name": "python",
   "nbconvert_exporter": "python",
   "pygments_lexer": "ipython3",
   "version": "3.8.5"
  }
 },
 "nbformat": 4,
 "nbformat_minor": 4
}
