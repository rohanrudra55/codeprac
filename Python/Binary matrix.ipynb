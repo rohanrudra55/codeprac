{
 "cells": [
  {
   "cell_type": "code",
   "execution_count": 11,
   "metadata": {},
   "outputs": [
    {
     "name": "stdin",
     "output_type": "stream",
     "text": [
      " 1 2\n",
      " 1 2\n"
     ]
    },
    {
     "name": "stdout",
     "output_type": "stream",
     "text": [
      "No"
     ]
    }
   ],
   "source": [
    "n=input()\n",
    "n=n.split()\n",
    "row=int(n[0])\n",
    "col=int(n[1])\n",
    "matrix=[]\n",
    "flag=0\n",
    "for i in range(0,row):\n",
    "    coloum=[]\n",
    "    #for j in range(0,col):\n",
    "    coloum=input().split()\n",
    "    matrix.append(coloum)\n",
    "for i in range(0,row):\n",
    "    for j in range(0,col):\n",
    "        if int(matrix[i][j])>1:\n",
    "            flag=1\n",
    "            break\n",
    "if flag==1:\n",
    "    print(\"No\",end='')\n",
    "else:\n",
    "    print(\"Yes\",end='')\n",
    "            \n",
    "\n",
    "        \n",
    "        "
   ]
  },
  {
   "cell_type": "code",
   "execution_count": null,
   "metadata": {},
   "outputs": [],
   "source": []
  }
 ],
 "metadata": {
  "kernelspec": {
   "display_name": "Python 3",
   "language": "python",
   "name": "python3"
  },
  "language_info": {
   "codemirror_mode": {
    "name": "ipython",
    "version": 3
   },
   "file_extension": ".py",
   "mimetype": "text/x-python",
   "name": "python",
   "nbconvert_exporter": "python",
   "pygments_lexer": "ipython3",
   "version": "3.8.5"
  }
 },
 "nbformat": 4,
 "nbformat_minor": 4
}
