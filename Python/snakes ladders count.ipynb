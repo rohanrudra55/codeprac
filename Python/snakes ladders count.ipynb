{
 "cells": [
  {
   "cell_type": "code",
   "execution_count": 9,
   "metadata": {},
   "outputs": [
    {
     "name": "stdin",
     "output_type": "stream",
     "text": [
      " 6: 14,11: 28,17: 74,22: 7,38: 59,49: 12,57: 76,61: 54,81: 98,88: 4\n"
     ]
    },
    {
     "name": "stdout",
     "output_type": "stream",
     "text": [
      "4   6"
     ]
    }
   ],
   "source": [
    "n=input()\n",
    "n=n.split(',')\n",
    "ladders=0\n",
    "snakes=0\n",
    "for i in n:\n",
    "    a=i.split(':')\n",
    "    num1=int(a[0])\n",
    "    num2=int(a[1])\n",
    "    if num2-num1>0:\n",
    "        ladders+=1\n",
    "    else:\n",
    "        snakes+=1\n",
    "print(snakes,' ',ladders,end='')\n",
    "    "
   ]
  },
  {
   "cell_type": "code",
   "execution_count": null,
   "metadata": {},
   "outputs": [],
   "source": []
  }
 ],
 "metadata": {
  "kernelspec": {
   "display_name": "Python 3",
   "language": "python",
   "name": "python3"
  },
  "language_info": {
   "codemirror_mode": {
    "name": "ipython",
    "version": 3
   },
   "file_extension": ".py",
   "mimetype": "text/x-python",
   "name": "python",
   "nbconvert_exporter": "python",
   "pygments_lexer": "ipython3",
   "version": "3.8.5"
  }
 },
 "nbformat": 4,
 "nbformat_minor": 4
}
