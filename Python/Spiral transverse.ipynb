{
 "cells": [
  {
   "cell_type": "code",
   "execution_count": 1,
   "metadata": {},
   "outputs": [
    {
     "ename": "AttributeError",
     "evalue": "module 'turtle' has no attribute 'exit'",
     "output_type": "error",
     "traceback": [
      "\u001b[0;31m---------------------------------------------------------------------------\u001b[0m",
      "\u001b[0;31mAttributeError\u001b[0m                            Traceback (most recent call last)",
      "\u001b[0;32m<ipython-input-1-644b00593c8c>\u001b[0m in \u001b[0;36m<module>\u001b[0;34m\u001b[0m\n\u001b[1;32m     63\u001b[0m \u001b[0;34m\u001b[0m\u001b[0m\n\u001b[1;32m     64\u001b[0m \u001b[0;34m\u001b[0m\u001b[0m\n\u001b[0;32m---> 65\u001b[0;31m \u001b[0mmatrix\u001b[0m\u001b[0;34m(\u001b[0m\u001b[0;34m)\u001b[0m\u001b[0;34m\u001b[0m\u001b[0;34m\u001b[0m\u001b[0m\n\u001b[0m",
      "\u001b[0;32m<ipython-input-1-644b00593c8c>\u001b[0m in \u001b[0;36mmatrix\u001b[0;34m()\u001b[0m\n\u001b[1;32m     55\u001b[0m         \u001b[0mc\u001b[0m\u001b[0;34m+=\u001b[0m\u001b[0;36m1\u001b[0m\u001b[0;34m\u001b[0m\u001b[0;34m\u001b[0m\u001b[0m\n\u001b[1;32m     56\u001b[0m     \u001b[0mturtle\u001b[0m\u001b[0;34m.\u001b[0m\u001b[0mdone\u001b[0m\u001b[0;34m(\u001b[0m\u001b[0;34m)\u001b[0m\u001b[0;34m\u001b[0m\u001b[0;34m\u001b[0m\u001b[0m\n\u001b[0;32m---> 57\u001b[0;31m     \u001b[0mturtle\u001b[0m\u001b[0;34m.\u001b[0m\u001b[0mexit\u001b[0m\u001b[0;34m(\u001b[0m\u001b[0;34m)\u001b[0m\u001b[0;34m\u001b[0m\u001b[0;34m\u001b[0m\u001b[0m\n\u001b[0m\u001b[1;32m     58\u001b[0m \u001b[0;34m\u001b[0m\u001b[0m\n\u001b[1;32m     59\u001b[0m \u001b[0;34m\u001b[0m\u001b[0m\n",
      "\u001b[0;31mAttributeError\u001b[0m: module 'turtle' has no attribute 'exit'"
     ]
    }
   ],
   "source": [
    "import turtle\n",
    "turtle.bgcolor(\"black\")\n",
    "tr=turtle.Turtle()\n",
    "width=5\n",
    "hight=7\n",
    "dot_distance=25\n",
    "tr.setpos(-250,250)\n",
    "    \n",
    "def matrix():\n",
    "    tr.color(\"white\")\n",
    "    #n=int(input('Enter the size: '))\n",
    "    n=20\n",
    "    value=1\n",
    "    arr=[]\n",
    "\n",
    "    for i in range(n):\n",
    "        ar=[]\n",
    "        for j in range(n):\n",
    "            ar.append(value)\n",
    "            value=value+1\n",
    "        arr.append(ar)\n",
    "    c=0\n",
    "    r=0\n",
    "    m=n\n",
    "    flag=0\n",
    "    #m no of coloums\n",
    "    #r no of rows\n",
    "    while(c<n or r<m):\n",
    "        if flag==1:\n",
    "            tr.right(90)\n",
    "        for i in range(c,m):\n",
    "            tr.forward(dot_distance)\n",
    "            flag=1\n",
    "            #print(arr[r][i])\n",
    "        r+=1\n",
    "        tr.right(90)\n",
    "        tr.color(\"blue\")\n",
    "        for i in range(r,n):\n",
    "            tr.forward(dot_distance)\n",
    "            #print(arr[i][n-1])\n",
    "        m-=1\n",
    "        tr.right(90)\n",
    "        tr.color(\"red\")\n",
    "        if (1):#c<m):\n",
    "            for i in range(m-1,c-1,-1):\n",
    "                tr.forward(dot_distance)\n",
    "                #print(arr[m][i])\n",
    "        n-=1\n",
    "        tr.right(90)\n",
    "        tr.color(\"yellow\")\n",
    "        if(1):#r<n):\n",
    "            for i in range(n-1,r-1,-1):\n",
    "                tr.forward(dot_distance)\n",
    "                #print(arr[i][c])\n",
    "        c+=1\n",
    "    turtle.done()\n",
    "    turtle.exit()\n",
    "   \n",
    "            \n",
    "            \n",
    "\n",
    "    \n",
    "    \n",
    "    \n",
    "matrix()"
   ]
  },
  {
   "cell_type": "code",
   "execution_count": null,
   "metadata": {},
   "outputs": [],
   "source": []
  },
  {
   "cell_type": "code",
   "execution_count": null,
   "metadata": {},
   "outputs": [],
   "source": []
  }
 ],
 "metadata": {
  "kernelspec": {
   "display_name": "Python 3",
   "language": "python",
   "name": "python3"
  },
  "language_info": {
   "codemirror_mode": {
    "name": "ipython",
    "version": 3
   },
   "file_extension": ".py",
   "mimetype": "text/x-python",
   "name": "python",
   "nbconvert_exporter": "python",
   "pygments_lexer": "ipython3",
   "version": "3.8.5"
  }
 },
 "nbformat": 4,
 "nbformat_minor": 4
}
