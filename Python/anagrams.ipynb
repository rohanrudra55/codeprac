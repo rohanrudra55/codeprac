{
 "cells": [
  {
   "cell_type": "code",
   "execution_count": 35,
   "metadata": {},
   "outputs": [
    {
     "name": "stdin",
     "output_type": "stream",
     "text": [
      " Monty Python\n",
      " polite man\n"
     ]
    },
    {
     "name": "stdout",
     "output_type": "stream",
     "text": [
      "['h', 'm', 'n', 'n', 'o', 'o', 'p', 't', 't', 'y', 'y']\n",
      "['h', 'm', 'n', 'o', 'p', 't', 'y']\n",
      "['a', 'e', 'i', 'l', 'm', 'n', 'o', 'p', 't']\n",
      "['a', 'e', 'i', 'l', 'm', 'n', 'o', 'p', 't']\n",
      "No"
     ]
    }
   ],
   "source": [
    "import string\n",
    "def dublicate(line):\n",
    "    new_line=[0]\n",
    "    new_line.clear()\n",
    "    for i in line:\n",
    "        if i not in new_line:\n",
    "            new_line.append(i)\n",
    "    return new_line\n",
    "a=input()\n",
    "b=input()\n",
    "a=a.lower()\n",
    "b=b.lower()\n",
    "line1=[0]\n",
    "line2=[0]\n",
    "letters=string.ascii_letters\n",
    "line1.clear()\n",
    "line2.clear()\n",
    "for i in a:\n",
    "    if(letters.find(i)>=0):\n",
    "        line1.append(i)\n",
    "line1.sort()\n",
    "for i in b:\n",
    "    if(letters.find(i)>=0):\n",
    "        line2.append(i)\n",
    "line2.sort()\n",
    "line1=dublicate(line1)\n",
    "line2=dublicate(line2)\n",
    "\n",
    "if( line1 == line2 ):\n",
    "    print(\"Yes\",end='')\n",
    "else:\n",
    "    print(\"No\",end='')"
   ]
  },
  {
   "cell_type": "code",
   "execution_count": null,
   "metadata": {},
   "outputs": [],
   "source": []
  }
 ],
 "metadata": {
  "kernelspec": {
   "display_name": "Python 3",
   "language": "python",
   "name": "python3"
  },
  "language_info": {
   "codemirror_mode": {
    "name": "ipython",
    "version": 3
   },
   "file_extension": ".py",
   "mimetype": "text/x-python",
   "name": "python",
   "nbconvert_exporter": "python",
   "pygments_lexer": "ipython3",
   "version": "3.8.5"
  }
 },
 "nbformat": 4,
 "nbformat_minor": 4
}
