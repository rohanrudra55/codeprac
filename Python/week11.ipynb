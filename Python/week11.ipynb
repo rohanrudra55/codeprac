{
 "metadata": {
  "language_info": {
   "codemirror_mode": {
    "name": "ipython",
    "version": 3
   },
   "file_extension": ".py",
   "mimetype": "text/x-python",
   "name": "python",
   "nbconvert_exporter": "python",
   "pygments_lexer": "ipython3",
   "version": "3.9.2"
  },
  "orig_nbformat": 2,
  "kernelspec": {
   "name": "python392jvsc74a57bd0aee8b7b246df8f9039afb4144a1f6fd8d2ca17a180786b69acc140d282b71a49",
   "display_name": "Python 3.9.2 64-bit"
  }
 },
 "nbformat": 4,
 "nbformat_minor": 2,
 "cells": [
  {
   "source": [
    "# WhatsApp Automation"
   ],
   "cell_type": "markdown",
   "metadata": {}
  },
  {
   "cell_type": "code",
   "execution_count": 7,
   "metadata": {},
   "outputs": [
    {
     "output_type": "error",
     "ename": "NameError",
     "evalue": "name 'wait' is not defined",
     "traceback": [
      "\u001b[0;31m---------------------------------------------------------------------------\u001b[0m",
      "\u001b[0;31mNameError\u001b[0m                                 Traceback (most recent call last)",
      "\u001b[0;32m<ipython-input-7-11e5288702be>\u001b[0m in \u001b[0;36m<module>\u001b[0;34m\u001b[0m\n\u001b[1;32m      7\u001b[0m \u001b[0mdriver\u001b[0m\u001b[0;34m=\u001b[0m\u001b[0mwebdriver\u001b[0m\u001b[0;34m.\u001b[0m\u001b[0mSafari\u001b[0m\u001b[0;34m(\u001b[0m\u001b[0;34m)\u001b[0m\u001b[0;34m\u001b[0m\u001b[0;34m\u001b[0m\u001b[0m\n\u001b[1;32m      8\u001b[0m \u001b[0mdriver\u001b[0m\u001b[0;34m.\u001b[0m\u001b[0mget\u001b[0m\u001b[0;34m(\u001b[0m\u001b[0;34m\"https://web.whatsapp.com\"\u001b[0m\u001b[0;34m)\u001b[0m\u001b[0;34m\u001b[0m\u001b[0;34m\u001b[0m\u001b[0m\n\u001b[0;32m----> 9\u001b[0;31m \u001b[0mwait\u001b[0m\u001b[0;34m==\u001b[0m\u001b[0mWebDriverWait\u001b[0m\u001b[0;34m(\u001b[0m\u001b[0mdriver\u001b[0m\u001b[0;34m,\u001b[0m\u001b[0;36m600\u001b[0m\u001b[0;34m)\u001b[0m\u001b[0;34m\u001b[0m\u001b[0;34m\u001b[0m\u001b[0m\n\u001b[0m",
      "\u001b[0;31mNameError\u001b[0m: name 'wait' is not defined"
     ]
    }
   ],
   "source": [
    "from selenium import webdriver\n",
    "from selenium.webdriver.support.ui import WebDriverWait\n",
    "from selenium.webdriver.support import expected_conditions\n",
    "from selenium.webdriver.common.keys import Keys \n",
    "from selenium.webdriver.common.by import By\n",
    "import time\n",
    "driver=webdriver.Safari()\n",
    "driver.get(\"https://web.whatsapp.com\")\n",
    "wait=WebDriverWait(driver,600)\n",
    "target='\"Aritra Engineer\"'\n",
    "string=\"Oshud Khas\"\n",
    "x_arg='//span[contains(@title, '+target+''\n",
    "target=wait.until(EC.presence_of_element_located(By.XPATH,x_arg)))\n",
    "target.click()\n",
    "\n",
    "input_box=driver.find_element_by_class_name('_1Plpp')\n",
    "for i in rnage(50):\n",
    "    input_box.send_keys(string+Keys.ENTER)\n"
   ]
  },
  {
   "source": [
    "# Quiz"
   ],
   "cell_type": "markdown",
   "metadata": {}
  },
  {
   "cell_type": "code",
   "execution_count": 2,
   "metadata": {},
   "outputs": [
    {
     "output_type": "stream",
     "name": "stdout",
     "text": [
      "2021-04-06 14:11:37.347935\n"
     ]
    }
   ],
   "source": [
    "from datetime import date \n",
    "from datetime import datetime\n",
    "# today=date.today()\n",
    "today=datetime.now()\n",
    "print(today)\n"
   ]
  },
  {
   "cell_type": "code",
   "execution_count": 7,
   "metadata": {},
   "outputs": [],
   "source": [
    "import calendar\n",
    "yy=2017\n",
    "mm=11\n",
    "dd=15\n",
    "# print(calendar.month(yy,mm))\n",
    "# print(calendar.leapdays(2000,2020))\n",
    "# print(datetime.utcnow())\n",
    "# print(calendar.weekday(2017,11,6))\n",
    "# year=2000\n",
    "# if(year%100)==0:\n",
    "#     if(year%400==0):\n",
    "#         print(\"aleap year\")\n",
    "#     else:\n",
    "#         print(\"Not a leap year\")\n",
    "\n",
    "# # else:\n",
    "#     print(\" ba leap year\")\n",
    "\n",
    "# print(calender.Calendar(firstweekday=4))"
   ]
  },
  {
   "source": [
    "## Q.1"
   ],
   "cell_type": "markdown",
   "metadata": {}
  },
  {
   "cell_type": "code",
   "execution_count": 87,
   "metadata": {},
   "outputs": [
    {
     "output_type": "stream",
     "name": "stdout",
     "text": [
      "0 1"
     ]
    }
   ],
   "source": [
    "n=0\n",
    "\n",
    "if n%2==0:\n",
    "   c=0\n",
    "   for i in range(1,n):\n",
    "    if i %2==0:\n",
    "        print(i)\n",
    "        c+=1\n",
    "   \n",
    "   print(c,2**c,end='')\n",
    "      \n",
    "else:\n",
    "    print(\"invalid\",end='')"
   ]
  },
  {
   "source": [
    "## Q.2"
   ],
   "cell_type": "markdown",
   "metadata": {}
  },
  {
   "cell_type": "code",
   "execution_count": 1,
   "metadata": {},
   "outputs": [
    {
     "output_type": "stream",
     "name": "stdout",
     "text": [
      "Wow Its a beautiful morning\n"
     ]
    }
   ],
   "source": [
    "import string\n",
    "n=\"Wow!!! It’s a beautiful morning\"\n",
    "a=string.ascii_letters+\" \"\n",
    "sentence=\"\"\n",
    "for i in n:\n",
    "    if i in a:\n",
    "        sentence+=i\n",
    "print(sentence)\n"
   ]
  },
  {
   "source": [
    "## Q.3"
   ],
   "cell_type": "markdown",
   "metadata": {}
  },
  {
   "cell_type": "code",
   "execution_count": 8,
   "metadata": {},
   "outputs": [
    {
     "output_type": "stream",
     "name": "stdout",
     "text": [
      "5"
     ]
    }
   ],
   "source": [
    "n=int(input())\n",
    "i=0\n",
    "c=0\n",
    "f=0\n",
    "num=[]\n",
    "z=\"00\"\n",
    "if n>0:\n",
    "  while(1):\n",
    "      binary=str(bin(i))\n",
    "      binary=binary[2:]\n",
    "      l=len(binary)\n",
    "\n",
    "      if l<=n:\n",
    "          if l<n:\n",
    "              binary=\"0\"*(n-l)+binary\n",
    "\n",
    "          f=1\n",
    "          num.append(binary)\n",
    "\n",
    "      elif f==1:\n",
    "          break\n",
    "\n",
    "\n",
    "      i+=1\n",
    "\n",
    "  for i in num:\n",
    "      if z in i:\n",
    "          k=1\n",
    "      else:\n",
    "          c+=1\n",
    "  if c==0:\n",
    "    print(\"invalid\",end=0)\n",
    "  else:\n",
    "  \tprint(c,end='')\n",
    "else:\n",
    "  print(\"invalid\",end='')"
   ]
  },
  {
   "cell_type": "code",
   "execution_count": null,
   "metadata": {},
   "outputs": [],
   "source": []
  }
 ]
}