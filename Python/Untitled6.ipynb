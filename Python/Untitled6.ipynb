{
 "cells": [
  {
   "cell_type": "code",
   "execution_count": 14,
   "metadata": {},
   "outputs": [
    {
     "name": "stdout",
     "output_type": "stream",
     "text": [
      "6\n",
      "14\n",
      "17\n",
      "74\n",
      "78\n",
      "78\n",
      "81\n",
      "98\n",
      "103\n",
      "103\n",
      "Yes"
     ]
    }
   ],
   "source": [
    "combination=\"6:  14, 11:  28, 17:  74, 22:  7, 38:  59, 49:  12, 57:  76, 61:  54, 81:  98,88:  4\"\n",
    "combination=combination.split(',')\n",
    "dice=\"6, 3, 4, 3, 5\"\n",
    "dice=dice.split(',')\n",
    "predict=0\n",
    "values={}\n",
    "for i in combination:\n",
    "    a=i.split(':')\n",
    "    num1=int(a[0])\n",
    "    num2=int(a[1])\n",
    "    values[num1]=num2\n",
    "\n",
    "for i in dice:\n",
    "    predict+=int(i)\n",
    "    print(predict)\n",
    "    if predict in values:\n",
    "        predict=values[predict]\n",
    "    print(predict)\n",
    "if (predict>=100):\n",
    "    print('Yes',end='')\n",
    "else:\n",
    "    print('No',end='')\n",
    "    "
   ]
  },
  {
   "cell_type": "code",
   "execution_count": null,
   "metadata": {},
   "outputs": [],
   "source": []
  }
 ],
 "metadata": {
  "kernelspec": {
   "display_name": "Python 3",
   "language": "python",
   "name": "python3"
  },
  "language_info": {
   "codemirror_mode": {
    "name": "ipython",
    "version": 3
   },
   "file_extension": ".py",
   "mimetype": "text/x-python",
   "name": "python",
   "nbconvert_exporter": "python",
   "pygments_lexer": "ipython3",
   "version": "3.8.5"
  }
 },
 "nbformat": 4,
 "nbformat_minor": 4
}
